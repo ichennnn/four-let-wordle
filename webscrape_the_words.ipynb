{
 "cells": [
  {
   "cell_type": "code",
   "execution_count": 34,
   "id": "2c2011cd",
   "metadata": {},
   "outputs": [],
   "source": [
    "import selenium\n",
    "from selenium import webdriver\n",
    "from selenium.webdriver.common.by import By\n",
    "import pandas as pd\n",
    "import os\n",
    "\n"
   ]
  },
  {
   "cell_type": "code",
   "execution_count": 35,
   "id": "5dcb0e05",
   "metadata": {},
   "outputs": [],
   "source": [
    "dr = webdriver.Chrome('insert-some-filepath-here')\n",
    "dr.get(\"https://eslforums.com/4-letter-words/\")"
   ]
  },
  {
   "cell_type": "code",
   "execution_count": 36,
   "id": "8a63ac6d",
   "metadata": {},
   "outputs": [],
   "source": [
    "words=dr.find_elements_by_tag_name('li')"
   ]
  },
  {
   "cell_type": "code",
   "execution_count": 37,
   "id": "b8a3e788",
   "metadata": {},
   "outputs": [],
   "source": [
    "words=words[46:]"
   ]
  },
  {
   "cell_type": "code",
   "execution_count": 38,
   "id": "e6e5cdf0",
   "metadata": {},
   "outputs": [],
   "source": [
    "four_let=[w.text for w in words]"
   ]
  },
  {
   "cell_type": "code",
   "execution_count": 39,
   "id": "21adede5",
   "metadata": {},
   "outputs": [],
   "source": [
    "df=pd.DataFrame(four_let,columns=['Word'])"
   ]
  },
  {
   "cell_type": "code",
   "execution_count": 40,
   "id": "7ad7d51e",
   "metadata": {},
   "outputs": [],
   "source": [
    "cwd=os.getcwd()\n",
    "path= f\"{cwd}/fourletterwords.csv\"\n",
    "df.to_csv(path)"
   ]
  },
  {
   "cell_type": "code",
   "execution_count": 41,
   "id": "718ea2a0",
   "metadata": {},
   "outputs": [],
   "source": [
    "dr.close()"
   ]
  }
 ],
 "metadata": {
  "kernelspec": {
   "display_name": "Python 3",
   "language": "python",
   "name": "python3"
  },
  "language_info": {
   "codemirror_mode": {
    "name": "ipython",
    "version": 3
   },
   "file_extension": ".py",
   "mimetype": "text/x-python",
   "name": "python",
   "nbconvert_exporter": "python",
   "pygments_lexer": "ipython3",
   "version": "3.8.8"
  }
 },
 "nbformat": 4,
 "nbformat_minor": 5
}
